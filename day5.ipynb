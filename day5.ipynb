{
  "nbformat": 4,
  "nbformat_minor": 0,
  "metadata": {
    "colab": {
      "name": "day5.ipynb",
      "provenance": [],
      "mount_file_id": "1nqFNB7Cwfa6u70wiBEjKbhQYv88CmZlJ",
      "authorship_tag": "ABX9TyPJOLpOv+Mt0cyj6Zo33Y5u",
      "include_colab_link": true
    },
    "kernelspec": {
      "name": "python3",
      "display_name": "Python 3"
    },
    "accelerator": "GPU"
  },
  "cells": [
    {
      "cell_type": "markdown",
      "metadata": {
        "id": "view-in-github",
        "colab_type": "text"
      },
      "source": [
        "<a href=\"https://colab.research.google.com/github/pbxpanda/dw_matrix_road_sign/blob/master/day5.ipynb\" target=\"_parent\"><img src=\"https://colab.research.google.com/assets/colab-badge.svg\" alt=\"Open In Colab\"/></a>"
      ]
    },
    {
      "cell_type": "code",
      "metadata": {
        "id": "6ysCeKhfZaYz",
        "colab_type": "code",
        "colab": {
          "base_uri": "https://localhost:8080/",
          "height": 170
        },
        "outputId": "9ffdacac-0081-4e46-86d3-cbbd1c5919bf"
      },
      "source": [
        "! pip install hyperopt"
      ],
      "execution_count": 1,
      "outputs": [
        {
          "output_type": "stream",
          "text": [
            "Requirement already satisfied: hyperopt in /usr/local/lib/python3.6/dist-packages (0.1.2)\n",
            "Requirement already satisfied: future in /usr/local/lib/python3.6/dist-packages (from hyperopt) (0.16.0)\n",
            "Requirement already satisfied: numpy in /usr/local/lib/python3.6/dist-packages (from hyperopt) (1.18.2)\n",
            "Requirement already satisfied: networkx in /usr/local/lib/python3.6/dist-packages (from hyperopt) (2.4)\n",
            "Requirement already satisfied: pymongo in /usr/local/lib/python3.6/dist-packages (from hyperopt) (3.10.1)\n",
            "Requirement already satisfied: six in /usr/local/lib/python3.6/dist-packages (from hyperopt) (1.12.0)\n",
            "Requirement already satisfied: scipy in /usr/local/lib/python3.6/dist-packages (from hyperopt) (1.4.1)\n",
            "Requirement already satisfied: tqdm in /usr/local/lib/python3.6/dist-packages (from hyperopt) (4.38.0)\n",
            "Requirement already satisfied: decorator>=4.3.0 in /usr/local/lib/python3.6/dist-packages (from networkx->hyperopt) (4.4.2)\n"
          ],
          "name": "stdout"
        }
      ]
    },
    {
      "cell_type": "code",
      "metadata": {
        "id": "lRUJ5bJkbq9W",
        "colab_type": "code",
        "colab": {
          "base_uri": "https://localhost:8080/",
          "height": 51
        },
        "outputId": "b870cf00-2303-466f-eded-1d4474ecf6da"
      },
      "source": [
        "import pandas as pd\n",
        "import numpy as np\n",
        "import os\n",
        "import datetime\n",
        "\n",
        "import tensorflow as tf\n",
        "from tensorflow.keras.models import Sequential\n",
        "from tensorflow.keras.layers import Conv2D, MaxPool2D, Dense, Flatten, Dropout\n",
        "from tensorflow.keras.utils import to_categorical\n",
        "\n",
        "%load_ext tensorboard\n",
        "\n",
        "import matplotlib.pyplot as plt\n",
        "from skimage import color, exposure\n",
        "\n",
        "from sklearn.metrics import accuracy_score\n",
        "\n",
        "from hyperopt import hp, STATUS_OK, tpe, Trials, fmin"
      ],
      "execution_count": 16,
      "outputs": [
        {
          "output_type": "stream",
          "text": [
            "The tensorboard extension is already loaded. To reload it, use:\n",
            "  %reload_ext tensorboard\n"
          ],
          "name": "stdout"
        }
      ]
    },
    {
      "cell_type": "code",
      "metadata": {
        "id": "xcJ0VUC4b9H8",
        "colab_type": "code",
        "colab": {
          "base_uri": "https://localhost:8080/",
          "height": 34
        },
        "outputId": "75587a0f-d9cc-4471-bdf5-8fe52ab3f5c7"
      },
      "source": [
        "cd '/content/drive/My Drive/Colab Notebooks/dw_matrix/matrix_three/dw_matrix_road_sign'"
      ],
      "execution_count": 3,
      "outputs": [
        {
          "output_type": "stream",
          "text": [
            "/content/drive/My Drive/Colab Notebooks/dw_matrix/matrix_three/dw_matrix_road_sign\n"
          ],
          "name": "stdout"
        }
      ]
    },
    {
      "cell_type": "code",
      "metadata": {
        "id": "iaF-YaYsb_Va",
        "colab_type": "code",
        "colab": {}
      },
      "source": [
        "train = pd.read_pickle('data/train.p')\n",
        "test = pd.read_pickle('data/test.p')\n",
        "\n",
        "X_train, y_train = train['features'], train['labels']\n",
        "X_test, y_test = test['features'], test['labels']"
      ],
      "execution_count": 0,
      "outputs": []
    },
    {
      "cell_type": "code",
      "metadata": {
        "id": "rmiqMV9scEAj",
        "colab_type": "code",
        "colab": {}
      },
      "source": [
        "if y_train.ndim == 1: y_train = to_categorical(y_train)\n",
        "if y_test.ndim == 1: y_test = to_categorical(y_test)\n",
        "\n",
        "input_shape = X_train.shape[1:]\n",
        "num_classes = y_train.shape[1]"
      ],
      "execution_count": 0,
      "outputs": []
    },
    {
      "cell_type": "code",
      "metadata": {
        "id": "LhKdRSvJcJvq",
        "colab_type": "code",
        "colab": {}
      },
      "source": [
        "def train_model(get_model, X_train, y_train, params_fit={}):\n",
        "  model.compile(loss='categorical_crossentropy', optimizer='Adam', metrics=['accuracy'])\n",
        "\n",
        "  logdir = os.path.join(\"logs\", datetime.datetime.now().strftime(\"%Y%m%d=%H%M%S\"))\n",
        "  tensorboard_callback = tf.keras.callbacks.TensorBoard(logdir, histogram_freq=1)\n",
        "\n",
        "\n",
        "  model.fit(\n",
        "      X_train, \n",
        "      y_train,\n",
        "      batch_size = params_fit.get('batch_size', 128),\n",
        "      epochs = params_fit.get('epochs', 5), \n",
        "      verbose = params_fit.get('verbose', 1),\n",
        "      validation_data = params_fit.get('validation_data', (X_train, y_train)),\n",
        "      callbacks = [tensorboard_callback] \n",
        "      )\n",
        "  \n",
        "  return model\n",
        "\n",
        "def predict(model_trained, X_test, y_test, scoring=accuracy_score):\n",
        "\n",
        "  y_test_norm = np.argmax(y_test, axis=1)\n",
        "\n",
        "  y_pred_prob = model_trained.predict(X_test)\n",
        "  y_pred=np.argmax(y_pred_prob, axis=1)\n",
        "\n",
        "  return scoring( y_test_norm, y_pred )"
      ],
      "execution_count": 0,
      "outputs": []
    },
    {
      "cell_type": "code",
      "metadata": {
        "id": "o5tjCCoicP3l",
        "colab_type": "code",
        "colab": {}
      },
      "source": [
        "def get_cnn_v5(input_shape, num_classes):\n",
        "  return Sequential([\n",
        "    Conv2D(filters=32, kernel_size=(3, 3), activation='relu', input_shape=input_shape),\n",
        "    Conv2D(filters=32, kernel_size=(3, 3), activation='relu', padding='same'),\n",
        "    MaxPool2D(),\n",
        "    Dropout(0.3),\n",
        "\n",
        "    Conv2D(filters=64, kernel_size=(3, 3), activation='relu', padding='same'),\n",
        "    Conv2D(filters=64, kernel_size=(3, 3), activation='relu'),\n",
        "    MaxPool2D(),\n",
        "    Dropout(0.3),\n",
        "\n",
        "    Conv2D(filters=128, kernel_size=(3, 3), activation='relu', padding='same'),\n",
        "    Conv2D(filters=128, kernel_size=(3, 3), activation='relu'),\n",
        "    MaxPool2D(),\n",
        "    Dropout(0.3),\n",
        "\n",
        "    Flatten(),\n",
        "\n",
        "    Dense(1024, activation='relu'),\n",
        "    Dropout(0.3),\n",
        "\n",
        "    Dense(1024, activation='relu'),\n",
        "    Dropout(0.3),\n",
        "\n",
        "    Dense(num_classes, activation='softmax'),\n",
        "  ])"
      ],
      "execution_count": 0,
      "outputs": []
    },
    {
      "cell_type": "code",
      "metadata": {
        "id": "Wc5smwVTczpY",
        "colab_type": "code",
        "colab": {
          "base_uri": "https://localhost:8080/",
          "height": 204
        },
        "outputId": "605bc3b9-618c-489b-e68e-31133379016f"
      },
      "source": [
        "model = get_cnn_v5(input_shape, num_classes)\n",
        "model_trained = train_model(model, X_train, y_train)\n",
        "\n",
        "predict(model_trained, X_test, y_test)"
      ],
      "execution_count": 11,
      "outputs": [
        {
          "output_type": "stream",
          "text": [
            "Epoch 1/5\n",
            "272/272 [==============================] - 5s 19ms/step - loss: 2.4884 - accuracy: 0.3083 - val_loss: 0.9409 - val_accuracy: 0.7138\n",
            "Epoch 2/5\n",
            "272/272 [==============================] - 5s 17ms/step - loss: 0.7986 - accuracy: 0.7472 - val_loss: 0.2085 - val_accuracy: 0.9363\n",
            "Epoch 3/5\n",
            "272/272 [==============================] - 5s 17ms/step - loss: 0.3879 - accuracy: 0.8818 - val_loss: 0.0840 - val_accuracy: 0.9767\n",
            "Epoch 4/5\n",
            "272/272 [==============================] - 5s 17ms/step - loss: 0.2552 - accuracy: 0.9230 - val_loss: 0.0485 - val_accuracy: 0.9865\n",
            "Epoch 5/5\n",
            "272/272 [==============================] - 5s 17ms/step - loss: 0.1866 - accuracy: 0.9462 - val_loss: 0.0325 - val_accuracy: 0.9908\n"
          ],
          "name": "stdout"
        },
        {
          "output_type": "execute_result",
          "data": {
            "text/plain": [
              "0.972108843537415"
            ]
          },
          "metadata": {
            "tags": []
          },
          "execution_count": 11
        }
      ]
    },
    {
      "cell_type": "code",
      "metadata": {
        "id": "dj1cCzM5e6jd",
        "colab_type": "code",
        "colab": {
          "base_uri": "https://localhost:8080/",
          "height": 51
        },
        "outputId": "bc23436e-26f3-4c25-eb75-caf29732ec6b"
      },
      "source": [
        "model_trained.evaluate(X_test, y_test)[1]"
      ],
      "execution_count": 12,
      "outputs": [
        {
          "output_type": "stream",
          "text": [
            "138/138 [==============================] - 0s 3ms/step - loss: 0.1163 - accuracy: 0.9721\n"
          ],
          "name": "stdout"
        },
        {
          "output_type": "execute_result",
          "data": {
            "text/plain": [
              "0.9721088409423828"
            ]
          },
          "metadata": {
            "tags": []
          },
          "execution_count": 12
        }
      ]
    },
    {
      "cell_type": "code",
      "metadata": {
        "id": "4BosbvrchV-b",
        "colab_type": "code",
        "colab": {}
      },
      "source": [
        "def get_model(params):\n",
        "    return Sequential([\n",
        "    Conv2D(filters=32, kernel_size=(3, 3), activation='relu', input_shape=input_shape),\n",
        "    Conv2D(filters=32, kernel_size=(3, 3), activation='relu', padding='same'),\n",
        "    Conv2D(filters=32, kernel_size=(3, 3), activation='relu', padding='same'),\n",
        "    MaxPool2D(),\n",
        "    Dropout(params['dropout_cnn_block_one']),\n",
        "\n",
        "    Conv2D(filters=64, kernel_size=(3, 3), activation='relu', padding='same'),\n",
        "    Conv2D(filters=64, kernel_size=(3, 3), activation='relu'),\n",
        "    MaxPool2D(),\n",
        "    Dropout(params['dropout_cnn_block_two']),\n",
        "\n",
        "    Conv2D(filters=64, kernel_size=(3, 3), activation='relu', padding='same'),\n",
        "    Conv2D(filters=64, kernel_size=(3, 3), activation='relu'),\n",
        "    MaxPool2D(),\n",
        "    Dropout(params['dropout_cnn_block_three']),\n",
        "\n",
        "    Flatten(),\n",
        "\n",
        "    Dense(1024, activation='relu'),\n",
        "    Dropout(params['dropout_dense_block_one']),\n",
        "\n",
        "    Dense(1024, activation='relu'),\n",
        "    Dropout(params['dropout_dense_block_two']),\n",
        "\n",
        "    Dense(num_classes, activation='softmax'),\n",
        "  ])"
      ],
      "execution_count": 0,
      "outputs": []
    },
    {
      "cell_type": "code",
      "metadata": {
        "id": "7QCcLnlidYUB",
        "colab_type": "code",
        "colab": {}
      },
      "source": [
        "def func_obj(params):\n",
        "  model = get_model(params)\n",
        "  model.compile(loss='categorical_crossentropy', optimizer='Adam', metrics=['accuracy'])\n",
        "\n",
        "  model.fit(\n",
        "      X_train, \n",
        "      y_train,\n",
        "      batch_size=int(params.get('batch_size', 128)),\n",
        "      epochs=5, \n",
        "      verbose=0\n",
        "  )\n",
        "  \n",
        "  score = model.evaluate(X_test, y_test, verbose=0)\n",
        "  accuracy = score[1]\n",
        "  print(params, 'accuracy={}'.format(accuracy))\n",
        "\n",
        "  return {'loss': -accuracy, 'status': STATUS_OK, 'model': model}"
      ],
      "execution_count": 0,
      "outputs": []
    },
    {
      "cell_type": "code",
      "metadata": {
        "id": "5R4seLIjflEw",
        "colab_type": "code",
        "colab": {
          "base_uri": "https://localhost:8080/",
          "height": 1000
        },
        "outputId": "99d31d9a-aa1b-40c6-d22b-1ad4938f0673"
      },
      "source": [
        "space = {\n",
        "    'batch_size': hp.quniform('batch_size', 100, 200, 10),\n",
        "    'dropout_cnn_block_one': hp.uniform('dropout_cnn_block_one', 0.3, 0.5),\n",
        "    'dropout_cnn_block_two': hp.uniform('dropout_cnn_block_two', 0.3, 0.5),\n",
        "    'dropout_cnn_block_three': hp.uniform('dropout_cnn_block_three', 0.3, 0.5),\n",
        "\n",
        "    'dropout_dense_block_one': hp.uniform('dropout_dense_block_one', 0.3, 0.7),\n",
        "    'dropout_dense_block_two': hp.uniform('dropout_dense_block_two', 0.3, 0.7),\n",
        "}\n",
        "\n",
        "best = fmin(\n",
        "    func_obj,\n",
        "    space,\n",
        "    tpe.suggest,\n",
        "    30,\n",
        "    Trials()\n",
        ")"
      ],
      "execution_count": 39,
      "outputs": [
        {
          "output_type": "stream",
          "text": [
            "{'batch_size': 130.0, 'dropout_cnn_block_one': 0.4443913439052357, 'dropout_cnn_block_three': 0.3661940371730036, 'dropout_cnn_block_two': 0.38392762140801123, 'dropout_dense_block_one': 0.6455139408254033, 'dropout_dense_block_two': 0.3853402173243743}\n",
            "accuracy=0.9546485543251038\n",
            "{'batch_size': 170.0, 'dropout_cnn_block_one': 0.3233143412710168, 'dropout_cnn_block_three': 0.4314037196115914, 'dropout_cnn_block_two': 0.38736982690632127, 'dropout_dense_block_one': 0.683459397214871, 'dropout_dense_block_two': 0.6948603231313049}\n",
            "accuracy=0.8979591727256775\n",
            "{'batch_size': 110.0, 'dropout_cnn_block_one': 0.3469438527376928, 'dropout_cnn_block_three': 0.3569456329425851, 'dropout_cnn_block_two': 0.4955611677761981, 'dropout_dense_block_one': 0.36107439509368583, 'dropout_dense_block_two': 0.43784780271020185}\n",
            "accuracy=0.9455782175064087\n",
            "{'batch_size': 140.0, 'dropout_cnn_block_one': 0.3719163100390834, 'dropout_cnn_block_three': 0.44382115168655945, 'dropout_cnn_block_two': 0.35538835471646674, 'dropout_dense_block_one': 0.32397444699845807, 'dropout_dense_block_two': 0.463708546598563}\n",
            "accuracy=0.9555555582046509\n",
            "{'batch_size': 200.0, 'dropout_cnn_block_one': 0.4887630059151344, 'dropout_cnn_block_three': 0.30915839944902457, 'dropout_cnn_block_two': 0.41922660161586695, 'dropout_dense_block_one': 0.5542110816739032, 'dropout_dense_block_two': 0.3219761751846617}\n",
            "accuracy=0.9133786559104919\n",
            "{'batch_size': 120.0, 'dropout_cnn_block_one': 0.48444051467697247, 'dropout_cnn_block_three': 0.4488369424684183, 'dropout_cnn_block_two': 0.4791724543709786, 'dropout_dense_block_one': 0.43753793166267785, 'dropout_dense_block_two': 0.5354577784693276}\n",
            "accuracy=0.9396825432777405\n",
            "{'batch_size': 190.0, 'dropout_cnn_block_one': 0.4259321059213048, 'dropout_cnn_block_three': 0.30479847912665614, 'dropout_cnn_block_two': 0.4912468815879599, 'dropout_dense_block_one': 0.6850756780914474, 'dropout_dense_block_two': 0.6125390386632146}\n",
            "accuracy=0.8158730268478394\n",
            "{'batch_size': 190.0, 'dropout_cnn_block_one': 0.32226937296488656, 'dropout_cnn_block_three': 0.3388842933852744, 'dropout_cnn_block_two': 0.3402554063740498, 'dropout_dense_block_one': 0.5632313057660914, 'dropout_dense_block_two': 0.4486160713417934}\n",
            "accuracy=0.9689342379570007\n",
            "{'batch_size': 160.0, 'dropout_cnn_block_one': 0.3353059574377231, 'dropout_cnn_block_three': 0.3889544261430168, 'dropout_cnn_block_two': 0.3045397321422373, 'dropout_dense_block_one': 0.6097725568945435, 'dropout_dense_block_two': 0.46393157314781}\n",
            "accuracy=0.9528344869613647\n",
            "{'batch_size': 190.0, 'dropout_cnn_block_one': 0.45044290367384254, 'dropout_cnn_block_three': 0.35715747465600045, 'dropout_cnn_block_two': 0.4907433290879692, 'dropout_dense_block_one': 0.5818211804828068, 'dropout_dense_block_two': 0.42826494363593026}\n",
            "accuracy=0.8934240341186523\n",
            "{'batch_size': 130.0, 'dropout_cnn_block_one': 0.3774763647168403, 'dropout_cnn_block_three': 0.4345521099799232, 'dropout_cnn_block_two': 0.35620240444848167, 'dropout_dense_block_one': 0.5349135701276992, 'dropout_dense_block_two': 0.5200695113896351}\n",
            "accuracy=0.9371882081031799\n",
            "{'batch_size': 170.0, 'dropout_cnn_block_one': 0.32740421586340585, 'dropout_cnn_block_three': 0.36659356469975835, 'dropout_cnn_block_two': 0.44282029119061495, 'dropout_dense_block_one': 0.4653331406375132, 'dropout_dense_block_two': 0.31181717249948265}\n",
            "accuracy=0.9473922848701477\n",
            "{'batch_size': 150.0, 'dropout_cnn_block_one': 0.3440164488094435, 'dropout_cnn_block_three': 0.3018498263205458, 'dropout_cnn_block_two': 0.4922969709693922, 'dropout_dense_block_one': 0.5968150967082049, 'dropout_dense_block_two': 0.5959953774506327}\n",
            "accuracy=0.9535147547721863\n",
            "{'batch_size': 180.0, 'dropout_cnn_block_one': 0.4170508983734668, 'dropout_cnn_block_three': 0.4274927748521346, 'dropout_cnn_block_two': 0.3015348149617319, 'dropout_dense_block_one': 0.3176416285042447, 'dropout_dense_block_two': 0.4584056975119318}\n",
            "accuracy=0.9083900451660156\n",
            "{'batch_size': 140.0, 'dropout_cnn_block_one': 0.4773578405680985, 'dropout_cnn_block_three': 0.38849451213441044, 'dropout_cnn_block_two': 0.33439808330354415, 'dropout_dense_block_one': 0.595587965915533, 'dropout_dense_block_two': 0.6947269145803378}\n",
            "accuracy=0.8523809313774109\n",
            "{'batch_size': 110.0, 'dropout_cnn_block_one': 0.36422857003667813, 'dropout_cnn_block_three': 0.30790509007047284, 'dropout_cnn_block_two': 0.34216947395367026, 'dropout_dense_block_one': 0.696273373780756, 'dropout_dense_block_two': 0.6967384558909141}\n",
            "accuracy=0.9435374140739441\n",
            "{'batch_size': 140.0, 'dropout_cnn_block_one': 0.3845930932971424, 'dropout_cnn_block_three': 0.4405950167167174, 'dropout_cnn_block_two': 0.34770275858386535, 'dropout_dense_block_one': 0.34888132029069585, 'dropout_dense_block_two': 0.60473468163616}\n",
            "accuracy=0.9591836929321289\n",
            "{'batch_size': 110.0, 'dropout_cnn_block_one': 0.41326266220863206, 'dropout_cnn_block_three': 0.44512684758309023, 'dropout_cnn_block_two': 0.383823204966489, 'dropout_dense_block_one': 0.3178082372665326, 'dropout_dense_block_two': 0.6536461869771206}\n",
            "accuracy=0.9442176818847656\n",
            "{'batch_size': 110.0, 'dropout_cnn_block_one': 0.47466144679832895, 'dropout_cnn_block_three': 0.447214200802893, 'dropout_cnn_block_two': 0.38083430455077966, 'dropout_dense_block_one': 0.32289089925061903, 'dropout_dense_block_two': 0.4040628233132405}\n",
            "accuracy=0.9571428298950195\n",
            "{'batch_size': 160.0, 'dropout_cnn_block_one': 0.39776354517158113, 'dropout_cnn_block_three': 0.4108284408338187, 'dropout_cnn_block_two': 0.47237704375003287, 'dropout_dense_block_one': 0.6718594601836713, 'dropout_dense_block_two': 0.46961907310725903}\n",
            "accuracy=0.8959183692932129\n",
            "{'batch_size': 150.0, 'dropout_cnn_block_one': 0.30557346948732617, 'dropout_cnn_block_three': 0.4893765717705571, 'dropout_cnn_block_two': 0.31886406126583267, 'dropout_dense_block_one': 0.40146874332512295, 'dropout_dense_block_two': 0.5870991641348675}\n",
            "accuracy=0.9732426404953003\n",
            "{'batch_size': 200.0, 'dropout_cnn_block_one': 0.3035247421521485, 'dropout_cnn_block_three': 0.4787474493735128, 'dropout_cnn_block_two': 0.3177322691036883, 'dropout_dense_block_one': 0.3938490234453648, 'dropout_dense_block_two': 0.555747384191266}\n",
            "accuracy=0.9433106780052185\n",
            "{'batch_size': 180.0, 'dropout_cnn_block_one': 0.3055134794488841, 'dropout_cnn_block_three': 0.3245235744318318, 'dropout_cnn_block_two': 0.32961417807453425, 'dropout_dense_block_one': 0.4864988865942928, 'dropout_dense_block_two': 0.3592604479424639}\n",
            "accuracy=0.960090696811676\n",
            "{'batch_size': 160.0, 'dropout_cnn_block_one': 0.31036735869125914, 'dropout_cnn_block_three': 0.4957929172616746, 'dropout_cnn_block_two': 0.3201130325076982, 'dropout_dense_block_one': 0.4075028741591149, 'dropout_dense_block_two': 0.5039799065413176}\n",
            "accuracy=0.9464852809906006\n",
            "{'batch_size': 190.0, 'dropout_cnn_block_one': 0.3560357320417187, 'dropout_cnn_block_three': 0.33765666276633455, 'dropout_cnn_block_two': 0.4054938008963299, 'dropout_dense_block_one': 0.5197013139833423, 'dropout_dense_block_two': 0.5659064972900465}\n",
            "accuracy=0.9335600733757019\n",
            "{'batch_size': 150.0, 'dropout_cnn_block_one': 0.31906088155465007, 'dropout_cnn_block_three': 0.4734782692511342, 'dropout_cnn_block_two': 0.35936565408053794, 'dropout_dense_block_one': 0.46086679727980945, 'dropout_dense_block_two': 0.6434103483336077}\n",
            "accuracy=0.9675737023353577\n",
            "{'batch_size': 170.0, 'dropout_cnn_block_one': 0.3003391533187585, 'dropout_cnn_block_three': 0.326134769623829, 'dropout_cnn_block_two': 0.31071328674264026, 'dropout_dense_block_one': 0.4169691152334691, 'dropout_dense_block_two': 0.5690306427307869}\n",
            "accuracy=0.9653061032295227\n",
            "{'batch_size': 180.0, 'dropout_cnn_block_one': 0.33962498130657104, 'dropout_cnn_block_three': 0.4094344852335962, 'dropout_cnn_block_two': 0.3676642082322698, 'dropout_dense_block_one': 0.4960449299972396, 'dropout_dense_block_two': 0.3598376935553461}\n",
            "accuracy=0.9319728016853333\n",
            "{'batch_size': 130.0, 'dropout_cnn_block_one': 0.3569692981009044, 'dropout_cnn_block_three': 0.3785865388735011, 'dropout_cnn_block_two': 0.4287114636537375, 'dropout_dense_block_one': 0.632154730075677, 'dropout_dense_block_two': 0.4943599675484333}\n",
            "accuracy=0.958276629447937\n",
            "{'batch_size': 120.0, 'dropout_cnn_block_one': 0.43793905409705225, 'dropout_cnn_block_three': 0.46760307148466473, 'dropout_cnn_block_two': 0.37015617999652256, 'dropout_dense_block_one': 0.5589117592956019, 'dropout_dense_block_two': 0.6399554876098547}\n",
            "accuracy=0.9013605713844299\n",
            "100%|██████████| 30/30 [08:43<00:00, 17.46s/it, best loss: -0.9732426404953003]\n"
          ],
          "name": "stdout"
        }
      ]
    },
    {
      "cell_type": "code",
      "metadata": {
        "id": "qW6c-aK5flQL",
        "colab_type": "code",
        "colab": {}
      },
      "source": [
        ""
      ],
      "execution_count": 0,
      "outputs": []
    },
    {
      "cell_type": "code",
      "metadata": {
        "id": "TGP_yOplflOV",
        "colab_type": "code",
        "colab": {}
      },
      "source": [
        ""
      ],
      "execution_count": 0,
      "outputs": []
    },
    {
      "cell_type": "code",
      "metadata": {
        "id": "8BPlJF83flMq",
        "colab_type": "code",
        "colab": {}
      },
      "source": [
        ""
      ],
      "execution_count": 0,
      "outputs": []
    },
    {
      "cell_type": "code",
      "metadata": {
        "id": "-xhBWT1vflIV",
        "colab_type": "code",
        "colab": {}
      },
      "source": [
        ""
      ],
      "execution_count": 0,
      "outputs": []
    },
    {
      "cell_type": "code",
      "metadata": {
        "id": "HdODOiJ7flCt",
        "colab_type": "code",
        "colab": {}
      },
      "source": [
        ""
      ],
      "execution_count": 0,
      "outputs": []
    },
    {
      "cell_type": "code",
      "metadata": {
        "id": "Gni3MLQtflAT",
        "colab_type": "code",
        "colab": {}
      },
      "source": [
        ""
      ],
      "execution_count": 0,
      "outputs": []
    }
  ]
}